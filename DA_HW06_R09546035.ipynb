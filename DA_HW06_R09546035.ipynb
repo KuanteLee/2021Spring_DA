{
 "cells": [
  {
   "cell_type": "markdown",
   "metadata": {},
   "source": [
    "# DA_HW05 R09546035 李冠德"
   ]
  },
  {
   "cell_type": "markdown",
   "metadata": {},
   "source": [
    "# Q1-(a)"
   ]
  },
  {
   "cell_type": "code",
   "execution_count": 1,
   "metadata": {},
   "outputs": [],
   "source": [
    "import pandas as pd\n",
    "import numpy as np\n",
    "import matplotlib.pyplot as plt\n",
    "from PIL import Image \n",
    "from numpy import linalg as LA\n",
    "from sklearn import preprocessing"
   ]
  },
  {
   "cell_type": "code",
   "execution_count": 2,
   "metadata": {},
   "outputs": [],
   "source": [
    "def FA(X, isCorrMX, number_of_factors, standardize = False, explain = False, draw_face = False):\n",
    "\n",
    "    # standardize\n",
    "    if standardize == True:\n",
    "        X = preprocessing.scale(X)\n",
    "        X = pd.DataFrame(X)\n",
    "\n",
    "    # using corr matrix or cov matrix\n",
    "    Z = X-X.mean()\n",
    "    if isCorrMX == True:\n",
    "        S = Z.corr()\n",
    "    else:\n",
    "        S = Z.cov()\n",
    "\n",
    "    # calculate eigenvalues and eigenvectors\n",
    "    eigen_values, eigen_vectors = LA.eig(S)\n",
    "\n",
    "    # for Q2-(c)\n",
    "    if explain == True:\n",
    "        # sort eigenvalue\n",
    "        eigen_values = list(eigen_values)\n",
    "        eigen_values.sort(reverse=True)\n",
    "        eigenvalues_totals = sum(eigen_values)\n",
    "        eigen_values = pd.Series(eigen_values)\n",
    "\n",
    "        # calculate explainable ratio of each factor\n",
    "        cumulative_list = []\n",
    "        cumulative_ratio = 0\n",
    "        for i in range(eigen_values.shape[0]):\n",
    "            ratio = eigen_values[i] / eigenvalues_totals\n",
    "            cumulative_ratio += ratio\n",
    "            cumulative_list.append(cumulative_ratio)\n",
    "\n",
    "        # to show how many factors are needed to explain variance\n",
    "        record = 0 # 防止重複進入迴圈\n",
    "        print()\n",
    "        for i in range(len(cumulative_list)):\n",
    "            if cumulative_list[i] >= 0.9 and record <= 4:\n",
    "                record += 1\n",
    "                print(str(i + 1), 'factors are needed to explain 90% the total variance')\n",
    "                break\n",
    "            elif cumulative_list[i] >= 0.8 and record <= 3:\n",
    "                record += 1\n",
    "                print(str(i + 1), 'factors are needed to explain 80% the total variance')\n",
    "\n",
    "            elif cumulative_list[i] >= 0.7 and record <= 2:\n",
    "                record += 1\n",
    "                print(str(i + 1), 'factors are needed to explain 70% the total variance')\n",
    "\n",
    "            elif cumulative_list[i] >= 0.6 and record <= 1:\n",
    "                record += 1\n",
    "                print(str(i + 1), 'factors are needed to explain 60% the total variance')  \n",
    "\n",
    "            elif cumulative_list[i] >= 0.5 and record == 0:\n",
    "                record += 1\n",
    "                print(str(i + 1), 'factors are needed to explain 50% the total variance') \n",
    "        return\n",
    "\n",
    "    # select q factor & estimate A by Principal Component \n",
    "    FA_eigenvalue = eigen_values[range(0,number_of_factors)]\n",
    "    FA_eigenvector = eigen_vectors[:,range(0,number_of_factors)]\n",
    "    AT = FA_eigenvector.dot(np.diag(np.sqrt(FA_eigenvalue)))\n",
    "    A = AT.T\n",
    "    if draw_face == False:\n",
    "        print('\\033[1;34mThe loading matrix = \\033[0m','\\n',AT)\n",
    "\n",
    "    # calculate phi\n",
    "    ATA = AT.dot(A)\n",
    "    uniqueness = ((X.cov() - ATA).values).diagonal()\n",
    "    phi = np.diag(uniqueness)\n",
    "\n",
    "    # using Weighted Least Squares to estimate the F\n",
    "    phi_inverse = np.linalg.inv(phi)\n",
    "    F1 = (X.dot(phi_inverse)).dot(AT)      # 算 F 的前半部\n",
    "    F2 = (A.dot(phi_inverse)).dot(AT)      # 算 F 的後半部(還沒 inverse)\n",
    "    F2_inverse = np.linalg.inv(F2)         \n",
    "    F = (F1.dot(F2_inverse)).values\n",
    "    if draw_face == False:\n",
    "        print('\\n', '\\033[1;34mThe factor matrix (head) = \\033[0m','\\n',F[:5])\n",
    "\n",
    "    # draw face\n",
    "    if draw_face == True: \n",
    "             \n",
    "        # find first factor \n",
    "        FA_eigenvalue = list(FA_eigenvalue)\n",
    "        first_index = FA_eigenvalue.index(max(FA_eigenvalue))\n",
    "        first_factor = F.T[first_index]\n",
    "\n",
    "        # change to [0, 255]\n",
    "        old_value =  first_factor\n",
    "        old_min = min(first_factor)\n",
    "        old_max = max(first_factor)\n",
    "        new_first_PC = ( ( old_value - old_min ) / (old_max - old_min) ) * (255 - 0) + 0\n",
    "\n",
    "        # draw\n",
    "        pic = np.array(new_first_PC, dtype='uint8').reshape(56,46) #畫在圖上 白點為特徵\n",
    "        img = Image.fromarray(pic, 'L')\n",
    "        img = img.resize((138, 168))\n",
    "\n",
    "        return img\n",
    "\n",
    "    # calculate hi_square\n",
    "    communality = sum(A*A)\n",
    "    print('\\n', '\\033[1;34mThe communality vactor = \\033[0m','\\n', communality)\n",
    "    \n",
    "    # print uniqueness\n",
    "    print('\\n', '\\033[1;34mThe uniqueness vector = \\033[0m','\\n', uniqueness)\n",
    "\n",
    "    # calculate proportion of total sample variance due to the ith factor \n",
    "    total_variance = sum(communality + uniqueness)\n",
    "    for i in range(len(FA_eigenvalue)):\n",
    "        proportion = FA_eigenvalue[i] / total_variance\n",
    "        print('\\n', '\\033[1;34mThe vector of the proportions of total variance contribution by the %dth factor = \\033[0m' \n",
    "        % (i+1),'\\n', proportion)"
   ]
  },
  {
   "cell_type": "markdown",
   "metadata": {},
   "source": [
    "# Q1-(b)\n",
    "\n",
    "在使用 FA 之後，可以藉由 loading matrix 找出變數與 factor 之間的相關性。 但如果使用的是 PCA 就無法發現變數之間的關係。\n",
    "另外，可以發現在 PCA 中，全部的 PC 都要用到，才能重現原來的資料，但在 FA 中，只要幾個 factor 即可重現。\n",
    "PCA 的重點在解釋資料的變異量，而 FA 的重點在解釋變相間的相關"
   ]
  },
  {
   "cell_type": "code",
   "execution_count": 3,
   "metadata": {},
   "outputs": [],
   "source": [
    "# loading data\n",
    "columns = [\"mpg\", \"cylinders\", \"displacement\", \"horsepower\", \"weight\", \"acceleration\", \"model year\", \"origin\", \"car name\"]\n",
    "df = pd.read_table(r'C:/Users/x5134/Desktop/Datasets/auto-mpg.data.txt', delim_whitespace=True, names=columns) \n",
    "\n",
    "# Tidy data ( 因為 \"horsepower == ?\"\" 的資料不多, 因此選擇直接忽視 )\n",
    "df = df[df.horsepower != '?'] \n",
    "df.horsepower =df.horsepower.astype('float') \n",
    "auto_mpg = df.drop(['mpg', 'car name'], axis=1) "
   ]
  },
  {
   "cell_type": "code",
   "execution_count": 4,
   "metadata": {},
   "outputs": [
    {
     "name": "stdout",
     "output_type": "stream",
     "text": [
      "\u001b[1;34mThe loading matrix = \u001b[0m \n",
      " [[ 0.94088961  0.11655335]\n",
      " [ 0.97363466  0.10417141]\n",
      " [ 0.93968549 -0.13810299]\n",
      " [ 0.92763528  0.1966014 ]\n",
      " [-0.63934801  0.46750447]\n",
      " [-0.46115385  0.62293543]\n",
      " [-0.64333247 -0.50126082]]\n",
      "\n",
      " \u001b[1;34mThe factor matrix (head) = \u001b[0m \n",
      " [[-8.98074499  9.27875381]\n",
      " [-8.79942376  9.04724819]\n",
      " [-8.68510409  8.90191133]\n",
      " [-8.95815935  9.2497476 ]\n",
      " [-8.56276886  8.74625173]]\n",
      "\n",
      " \u001b[1;34mThe communality vactor = \u001b[0m \n",
      " [0.89885793 0.95881614 0.90208125 0.89915932 0.6273263  0.60071143\n",
      " 0.66513908]\n",
      "\n",
      " \u001b[1;34mThe uniqueness vector = \u001b[0m \n",
      " [ 2.01083855e+00  1.09494087e+04  1.48066731e+03  7.21483810e+05\n",
      "  6.98400493e+00  1.29692035e+01 -1.62795390e-02]\n",
      "\n",
      " \u001b[1;34mThe vector of the proportions of total variance contribution by the 1th factor = \u001b[0m \n",
      " 6.283961126659609e-06\n",
      "\n",
      " \u001b[1;34mThe vector of the proportions of total variance contribution by the 2th factor = \u001b[0m \n",
      " 1.2808002504650384e-06\n"
     ]
    }
   ],
   "source": [
    "# start training\n",
    "FA(X = auto_mpg, isCorrMX = True, number_of_factors = 2, standardize = False) "
   ]
  },
  {
   "cell_type": "markdown",
   "metadata": {},
   "source": [
    "# Q2-(c)"
   ]
  },
  {
   "cell_type": "code",
   "execution_count": 5,
   "metadata": {},
   "outputs": [],
   "source": [
    "import cv2\n",
    "import os\n",
    "import pandas as pd \n",
    "\n",
    "# import female data\n",
    "image = os.listdir(r'C:/Users/x5134/Desktop/Datasets/ORL_Faces/female') # 讀取檔案資料\n",
    "img_female = []\n",
    "for i in range(len(image)):\n",
    "    os.chdir(r'C:/Users/x5134/Desktop/Datasets/ORL_Faces/female') # 鎖定檔案\n",
    "    img = cv2.imread(image[i], cv2.IMREAD_GRAYSCALE)          # 讀取圖檔\n",
    "    irow = img.ravel()                                        # 轉為1維陣列 \n",
    "    img_female += [irow]                                      # 將所有圖片一維陣列儲存在一個集合    \n",
    "female = pd.DataFrame(img_female)                             # 輸出成資料框並命名\n",
    "female['label'] = 0                                           # add label\n",
    "\n",
    "# import male data\n",
    "image = os.listdir(r'C:/Users/x5134/Desktop/Datasets/ORL_Faces/male') # 讀取檔案資料\n",
    "img_male = []\n",
    "for i in range(len(image)):\n",
    "    os.chdir(r'C:/Users/x5134/Desktop/Datasets/ORL_Faces/male')   # 鎖定檔案\n",
    "    img = cv2.imread(image[i], cv2.IMREAD_GRAYSCALE)          # 讀取圖檔\n",
    "    irow = img.ravel()                                        # 轉為1維陣列\n",
    "    img_male += [irow]                                        # 將所有圖片一維陣列儲存在一個集合\n",
    "male = pd.DataFrame(img_male)                                 # 輸出成資料框並命名\n",
    "male['label'] = 1                                             # add label\n",
    "\n",
    "# concat two data\n",
    "total = pd.concat([female,male], axis = 0, join = 'inner') # concat female and male data\n",
    "total.index = range(0,400)                                 # rename index\n",
    "total = (total.drop(['label'], axis = 1))                  # drop label, let shape become (400, 2576)\n",
    "\n",
    "total_labels = pd.concat([female['label'], male['label']], axis = 0,join = 'inner') # concat label\n",
    "total_labels.index = range(0,400)"
   ]
  },
  {
   "cell_type": "code",
   "execution_count": 6,
   "metadata": {},
   "outputs": [
    {
     "name": "stdout",
     "output_type": "stream",
     "text": [
      "\n",
      "2 factors are needed to explain 50% the total variance\n",
      "4 factors are needed to explain 60% the total variance\n",
      "7 factors are needed to explain 70% the total variance\n",
      "17 factors are needed to explain 80% the total variance\n",
      "50 factors are needed to explain 90% the total variance\n"
     ]
    }
   ],
   "source": [
    "FA(X = total.T, isCorrMX = True, number_of_factors = 0, standardize = False, explain = True)"
   ]
  },
  {
   "cell_type": "code",
   "execution_count": 7,
   "metadata": {},
   "outputs": [
    {
     "name": "stdout",
     "output_type": "stream",
     "text": [
      "\n",
      "2 factors are needed to explain 50% the total variance\n",
      "3 factors are needed to explain 60% the total variance\n",
      "6 factors are needed to explain 70% the total variance\n",
      "15 factors are needed to explain 80% the total variance\n",
      "47 factors are needed to explain 90% the total variance\n"
     ]
    }
   ],
   "source": [
    "FA(X = total.T, isCorrMX = False, number_of_factors = 0, standardize = False, explain = True)"
   ]
  },
  {
   "cell_type": "markdown",
   "metadata": {},
   "source": [
    "# Q2-(a)\n"
   ]
  },
  {
   "cell_type": "code",
   "execution_count": 8,
   "metadata": {
    "tags": []
   },
   "outputs": [
    {
     "data": {
      "image/png": "[encoded data removed]",
      "text/plain": [
       "<PIL.Image.Image image mode=L size=138x168 at 0x1955DF7E748>"
      ]
     },
     "execution_count": 8,
     "metadata": {},
     "output_type": "execute_result"
    }
   ],
   "source": [
    "# when isCorrMX = True\n",
    "# on condition of explaining 80% of total variance, I set number of factor = 17\n",
    "FA(X = total.T, isCorrMX = True, number_of_factors = 17, standardize = False, draw_face = True)"
   ]
  },
  {
   "cell_type": "code",
   "execution_count": 9,
   "metadata": {},
   "outputs": [
    {
     "data": {
      "image/png": "[encoded data removed]",
      "text/plain": [
       "<PIL.Image.Image image mode=L size=138x168 at 0x1955B363F98>"
      ]
     },
     "execution_count": 9,
     "metadata": {},
     "output_type": "execute_result"
    }
   ],
   "source": [
    "# when isCorrMX = Flase\n",
    "# on condition of explaining 80% of total variance, I set number of factor = 15\n",
    "FA(X = total.T, isCorrMX = False, number_of_factors = 15, standardize = False, draw_face = True)"
   ]
  }
 ],
 "metadata": {
  "kernelspec": {
   "display_name": "Python 3.6.10 64-bit ('base': conda)",
   "name": "python3610jvsc74a57bd0d601e214231a54ba641896268803a463ef9964c44e790eabc064672ab56e7ce7"
  },
  "language_info": {
   "codemirror_mode": {
    "name": "ipython",
    "version": 3
   },
   "file_extension": ".py",
   "mimetype": "text/x-python",
   "name": "python",
   "nbconvert_exporter": "python",
   "pygments_lexer": "ipython3",
   "version": "3.6.10"
  }
 },
 "nbformat": 4,
 "nbformat_minor": 2
}
