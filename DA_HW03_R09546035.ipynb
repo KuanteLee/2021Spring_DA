{
 "cells": [
  {
   "cell_type": "markdown",
   "metadata": {},
   "source": [
    "# Q1-(a)"
   ]
  },
  {
   "cell_type": "code",
   "execution_count": 183,
   "metadata": {},
   "outputs": [],
   "source": [
    "import cv2\n",
    "import os\n",
    "import pandas as pd \n",
    "\n",
    "# import female data\n",
    "image = os.listdir(r'C:/Users/x5134/Desktop/HW03/ORL_Faces/female') # 讀取檔案資料\n",
    "img_female = []\n",
    "for i in range(len(image)):\n",
    "    os.chdir(r'C:/Users/x5134/Desktop/HW03/ORL_Faces/female') # 鎖定檔案\n",
    "    img = cv2.imread(image[i], cv2.IMREAD_GRAYSCALE)          # 讀取圖檔\n",
    "    irow = img.ravel()                                        # 轉為1維陣列 \n",
    "    img_female += [irow]                                      # 將所有圖片一維陣列儲存在一個集合    \n",
    "female = pd.DataFrame(img_female)                             # 輸出成資料框並命名\n",
    "female['label'] = 0                                           # add label\n",
    "\n",
    "# import male data\n",
    "image = os.listdir(r'C:/Users/x5134/Desktop/HW03/ORL_Faces/male') # 讀取檔案資料\n",
    "img_male = []\n",
    "for i in range(len(image)):\n",
    "    os.chdir(r'C:/Users/x5134/Desktop/HW03/ORL_Faces/male')   # 鎖定檔案\n",
    "    img = cv2.imread(image[i], cv2.IMREAD_GRAYSCALE)          # 讀取圖檔\n",
    "    irow = img.ravel()                                        # 轉為1維陣列\n",
    "    img_male += [irow]                                        # 將所有圖片一維陣列儲存在一個集合\n",
    "male = pd.DataFrame(img_male)                                 # 輸出成資料框並命名\n",
    "male['label'] = 1                                             # add label\n",
    "\n",
    "# concat two data\n",
    "total = pd.concat([female,male], axis = 0, join = 'inner') # concat female and male data\n",
    "total.index = range(0,400)                                 # rename index\n",
    "total = (total.drop(['label'], axis = 1))                  # drop label, let shape become (400, 2576)\n",
    "\n",
    "total_labels = pd.concat([female['label'], male['label']], axis = 0,join = 'inner') # concat label\n",
    "total_labels.index = range(0,400)"
   ]
  },
  {
   "cell_type": "markdown",
   "metadata": {},
   "source": [
    "# Q1-(b)"
   ]
  },
  {
   "cell_type": "code",
   "execution_count": 184,
   "metadata": {},
   "outputs": [
    {
     "output_type": "stream",
     "name": "stdout",
     "text": [
      "coefficient = [-2.76035507e-05 -1.53724303e-05 -2.58647810e-05 ... -1.08714267e-04\n -1.91769856e-04 -1.31911758e-04]\nintercept = 1.0704191091957753\n參數數量(不含截距)有 2576 個\nR squared = 1.0\nadjusted R squared = 1.0\n"
     ]
    }
   ],
   "source": [
    "from sklearn.linear_model import LinearRegression\n",
    "import matplotlib.pyplot as plt\n",
    "\n",
    "model = LinearRegression()\n",
    "model.fit(total, total_labels)\n",
    "print('coefficient =', model.coef_)\n",
    "print('intercept =', model.intercept_)\n",
    "print('參數數量(不含截距)有', len(model.coef_), '個')\n",
    "print('R squared =', model.score(total, total_labels))\n",
    "print('adjusted R squared =', 1 - (1-model.score(total, total_labels))*(len(total_labels)-1)/(len(total_labels)-total.shape[1]-1))"
   ]
  },
  {
   "cell_type": "markdown",
   "metadata": {},
   "source": [
    "# Q1-(c)"
   ]
  },
  {
   "cell_type": "code",
   "execution_count": 9,
   "metadata": {},
   "outputs": [
    {
     "output_type": "stream",
     "name": "stdout",
     "text": [
      "找到了 636 個最重要的參數\n"
     ]
    },
    {
     "output_type": "execute_result",
     "data": {
      "text/plain": [
       "<PIL.Image.Image image mode=L size=46x56 at 0x2D933952B38>"
      ],
      "image/png": "[encoded data removed]"
     },
     "metadata": {},
     "execution_count": 9
    }
   ],
   "source": [
    "from mlxtend.feature_selection import SequentialFeatureSelector as SFS\n",
    "from sklearn.linear_model import LinearRegression\n",
    "import numpy as np\n",
    "\n",
    "# use stepwise selection from null model to find the important pixel\n",
    "lr = LinearRegression()\n",
    "sfs = SFS(lr, k_features = 'best', forward = True, scoring = 'neg_mean_squared_error',cv = 0)\n",
    "sfs = sfs.fit(total, total_labels)\n",
    "\n",
    "a = list(sfs.k_feature_names_)         # important pixel finded from null model\n",
    "print('找到了',len(a),'個最重要的參數')  # print the number of important pixel\n",
    "# print(sfs.k_feature_names_)          \n",
    "\n",
    "# let important pixel to be white\n",
    "pixel = [0] * 2576\n",
    "for i in a:\n",
    "    pixel[i] = 255     \n",
    "\n",
    "# plot the chosen pixel on a 46x56 canvas\n",
    "from PIL import Image\n",
    "pic = np.array(pixel, dtype = 'uint8').reshape(56,46)\n",
    "img = Image.fromarray(pic, 'L')\n",
    "img"
   ]
  },
  {
   "source": [
    "# Q2"
   ],
   "cell_type": "markdown",
   "metadata": {}
  },
  {
   "cell_type": "code",
   "execution_count": 179,
   "metadata": {
    "tags": []
   },
   "outputs": [
    {
     "output_type": "stream",
     "name": "stdout",
     "text": [
      "step = 76。the highest altitude is 170 at [48, 38]\n"
     ]
    }
   ],
   "source": [
    "import random\n",
    "volcano = pd.read_csv(r'C:/Users/x5134/Desktop/HW03/Volcano.csv', names = list(range(1, 88)))\n",
    "volcano.index = range(61, 0, -1)\n",
    "\n",
    "# initial position\n",
    "x = 87\n",
    "y = 1\n",
    "current_position_hight = volcano.at[y, x]\n",
    "\n",
    "plot_x = []\n",
    "plot_y = []\n",
    "for i in range(10000):\n",
    "    # print('%d the altitude is %d at [%d, %d]'% (i, current_position_hight, x, y))\n",
    "    step = i \n",
    "\n",
    "    # 分別朝 X, Y 方向個走一步，並記錄高度較高的那個\n",
    "    if current_position_hight > volcano.at[y+1, x] and current_position_hight > volcano.at[y, x-1]:\n",
    "        break\n",
    "\n",
    "    elif volcano.at[y+1, x] > volcano.at[y, x-1] and volcano.at[y+1, x] > current_position_hight:\n",
    "        current_position_hight = volcano.at[y+1, x]\n",
    "        y = y + 1\n",
    "\n",
    "    elif volcano.at[y+1, x] < volcano.at[y, x - 1] and volcano.at[y, x - 1] > volcano.at[y, x]:\n",
    "        current_position_hight = volcano.at[y, x - 1]\n",
    "        x = x - 1\n",
    "\n",
    "    # 如果兩邊高度一樣，就隨便選一邊走\n",
    "    else:\n",
    "        rnd = random.randint(0, 1)\n",
    "        if rnd == 1:\n",
    "            current_position_hight = volcano.at[y, x-1]\n",
    "            x = x - 1\n",
    "        else:\n",
    "            current_position_hight = volcano.at[y+1, x]\n",
    "            y = y + 1\n",
    "    \n",
    "print('step = %d。the highest altitude is %d at [%d, %d]'% (step, current_position_hight, x, y))"
   ]
  },
  {
   "source": [
    "#   Q3-(a)"
   ],
   "cell_type": "markdown",
   "metadata": {}
  },
  {
   "cell_type": "code",
   "execution_count": 201,
   "metadata": {},
   "outputs": [
    {
     "output_type": "stream",
     "name": "stdout",
     "text": [
      "intercept = [6.0105622]\ncoefficient = [[ 1.48279297 -3.99534408]]\nR squared = 0.5435474382086332\nadjusted R squared = 0.5435291790106096\n"
     ]
    }
   ],
   "source": [
    "import numpy as np\n",
    "\n",
    "# 隨機產生一組資料\n",
    "x1 = 0.2 + np.random.rand(50000) * 0.8\n",
    "x2 = 1 - np.random.rand(50000) * 0.9\n",
    "y = 6 + 1.5 * x1 - 4 * x2 + np.random.randn(50000)\n",
    "\n",
    "x1 = pd.DataFrame(x1)\n",
    "x2 = pd.DataFrame(x2)\n",
    "y = pd.DataFrame(y)\n",
    "total_x = pd.concat([x1, x2], axis=1)\n",
    "\n",
    "model = LinearRegression()\n",
    "model.fit(total_x, y)\n",
    "print('intercept =', model.intercept_)\n",
    "print('coefficient =', model.coef_)\n",
    "print('R squared =', model.score(total_x, y))\n",
    "print('adjusted R squared =', 1 - (1-model.score(total_x, y))*(len(y)-1)/(len(y)-total_x.shape[1]-1))"
   ]
  },
  {
   "source": [
    "# Q3-(b)"
   ],
   "cell_type": "markdown",
   "metadata": {}
  },
  {
   "cell_type": "code",
   "execution_count": 215,
   "metadata": {
    "tags": []
   },
   "outputs": [
    {
     "output_type": "stream",
     "name": "stdout",
     "text": [
      "iteration = 50, e = 18322.229,  [b0, b1, b2] = [-1.010, -14.135, 25.217]\n",
      "iteration = 100, e = 4869.452,  [b0, b1, b2] = [3.951, -1.031, 2.339]\n",
      "iteration = 150, e = 1467.427,  [b0, b1, b2] = [5.337, 1.270, -2.578]\n",
      "iteration = 200, e = 498.932,  [b0, b1, b2] = [5.777, 1.577, -3.680]\n",
      "iteration = 250, e = 186.011,  [b0, b1, b2] = [5.933, 1.569, -3.944]\n",
      "iteration = 300, e = 73.537,  [b0, b1, b2] = [5.993, 1.538, -4.015]\n",
      "iteration = 350, e = 30.049,  [b0, b1, b2] = [6.017, 1.519, -4.036]\n",
      "iteration = 400, e = 12.494,  [b0, b1, b2] = [6.027, 1.510, -4.044]\n",
      "iteration = 450, e = 5.240,  [b0, b1, b2] = [6.031, 1.505, -4.046]\n",
      "iteration = 500, e = 2.208,  [b0, b1, b2] = [6.033, 1.504, -4.047]\n"
     ]
    }
   ],
   "source": [
    "def gradient_descent(initial_position, iteration, learning_rate, sample_interval):\n",
    "\n",
    "    # 防呆。防止迭代次數比紀錄點少\n",
    "    if iteration < sample_interval:\n",
    "        sample_interval = iteration\n",
    "\n",
    "    # input initial position\n",
    "    b0 = initial_position[0]\n",
    "    b1 = initial_position[1]\n",
    "    b2 = initial_position[2]\n",
    "\n",
    "    for i in range(iteration):\n",
    "        y_hat = b0 + b1 * x1 + b2 * x2\n",
    "        e = y - y_hat\n",
    "        b0 = b0 - learning_rate*(-e.sum())\n",
    "        b1 = b1 - learning_rate*(-(e*x1).sum())\n",
    "        b2 = b2 - learning_rate*(-(e*x2).sum())\n",
    "\n",
    "        # record point\n",
    "        if (i + 1) % sample_interval == 0:\n",
    "            print('iteration = %d, e = %.3f,  [b0, b1, b2] = [%.3f, %.3f, %.3f]' % ((i+1), e.sum(), b0, b1, b2))\n",
    "\n",
    "# 隨機初始化位置\n",
    "b0 = random.randint(-1000,1000)\n",
    "b1 = random.randint(-1000,1000)\n",
    "b2 = random.randint(-1000,1000)\n",
    "\n",
    "# start training\n",
    "gradient_descent(initial_position = [b0, b1, b2], iteration = 500, learning_rate = 0.00001, sample_interval = 50)"
   ]
  }
 ],
 "metadata": {
  "kernelspec": {
   "display_name": "Python 3",
   "language": "python",
   "name": "python3"
  },
  "language_info": {
   "codemirror_mode": {
    "name": "ipython",
    "version": 3
   },
   "file_extension": ".py",
   "mimetype": "text/x-python",
   "name": "python",
   "nbconvert_exporter": "python",
   "pygments_lexer": "ipython3",
   "version": "3.6.10-final"
  }
 },
 "nbformat": 4,
 "nbformat_minor": 2
}