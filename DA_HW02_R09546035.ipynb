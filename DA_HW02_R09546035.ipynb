{
 "cells": [
  {
   "cell_type": "code",
   "execution_count": 1,
   "metadata": {},
   "outputs": [],
   "source": [
    "import numpy as np \n",
    "import matplotlib.pyplot as plt\n",
    "\n",
    "def HW02_1(num_of_dice): \n",
    "    \n",
    "    avg = [] \n",
    "    for i in range(1,1000): \n",
    "        a = np.random.randint(1,7,num_of_dice) \n",
    "        avg.append(np.average(a))\n",
    "        \n",
    "    plt.hist(avg[0:], density = True, bins = len(set(avg)))"
   ]
  },
  {
   "cell_type": "code",
   "execution_count": 2,
   "metadata": {},
   "outputs": [
    {
     "data": {
      "image/png": "[encoded data removed]",
      "text/plain": [
       "<Figure size 432x288 with 1 Axes>"
      ]
     },
     "metadata": {
      "needs_background": "light"
     },
     "output_type": "display_data"
    }
   ],
   "source": [
    "HW02_1(num_of_dice = 2)"
   ]
  },
  {
   "cell_type": "code",
   "execution_count": 3,
   "metadata": {},
   "outputs": [
    {
     "data": {
      "image/png": "[encoded data removed]",
      "text/plain": [
       "<Figure size 432x288 with 1 Axes>"
      ]
     },
     "metadata": {
      "needs_background": "light"
     },
     "output_type": "display_data"
    }
   ],
   "source": [
    "HW02_1(num_of_dice = 3)"
   ]
  },
  {
   "cell_type": "code",
   "execution_count": 4,
   "metadata": {},
   "outputs": [
    {
     "data": {
      "image/png": "[encoded data removed]",
      "text/plain": [
       "<Figure size 432x288 with 1 Axes>"
      ]
     },
     "metadata": {
      "needs_background": "light"
     },
     "output_type": "display_data"
    }
   ],
   "source": [
    "HW02_1(num_of_dice = 4)"
   ]
  },
  {
   "cell_type": "code",
   "execution_count": 5,
   "metadata": {},
   "outputs": [
    {
     "data": {
      "image/png": "[encoded data removed]",
      "text/plain": [
       "<Figure size 432x288 with 1 Axes>"
      ]
     },
     "metadata": {
      "needs_background": "light"
     },
     "output_type": "display_data"
    }
   ],
   "source": [
    "HW02_1(num_of_dice = 5)"
   ]
  },
  {
   "cell_type": "code",
   "execution_count": 6,
   "metadata": {
    "scrolled": true
   },
   "outputs": [],
   "source": [
    "import random \n",
    "\n",
    "def HW02_2(num_of_cards, num_of_step_for_face_cards): \n",
    "    \n",
    "    iteration = 0\n",
    "    num = 0\n",
    "    while iteration < 10000:\n",
    "        a = list(range(num_of_cards))\n",
    "        random.shuffle(a)\n",
    "\n",
    "        record = [-1 for i in range(num_of_cards)] \n",
    "        # 計算前進步數\n",
    "        for i in range(num_of_cards):\n",
    "            a[i] = a[i] % 13 \n",
    "            record[i] = a[i]  \n",
    "\n",
    "        # 將 J、Q、K 的步數設為 5\n",
    "        for i in range(num_of_cards):\n",
    "            if a[i] == 0 or a[i] == 11 or a[i] == 12:\n",
    "                a[i] = num_of_step_for_face_cards\n",
    "\n",
    "        # 開始前進\n",
    "        record_final = [-1 for i in range(10)]            \n",
    "        for i in range(10): \n",
    "            position = i + 1 # 第一張牌的位置\n",
    "            while position < (num_of_cards - 1): \n",
    "                final_position = position\n",
    "                position += a[position]\n",
    "                if position < (num_of_cards - 1):\n",
    "                    final_position = position          \n",
    "            record_final[i] = record[final_position]   \n",
    "        # print('前十張最後分別的牌 =', record_final)\n",
    "\n",
    "        # 紀錄總共有幾次最後出來的牌完全一樣\n",
    "        if len(set(record_final)) == 1:\n",
    "            num += 1\n",
    "\n",
    "        iteration += 1\n",
    "\n",
    "    pro = num / 10000\n",
    "    print('(Cards = %d, Step = %d) Probability that all the first 10 cards reach the same end ='\n",
    "          % (num_of_cards, num_of_step_for_face_cards), pro*100, '%')"
   ]
  },
  {
   "cell_type": "code",
   "execution_count": 7,
   "metadata": {},
   "outputs": [
    {
     "name": "stdout",
     "output_type": "stream",
     "text": [
      "(Cards = 52, Step = 5) Probability that all the first 10 cards reach the same end = 58.41 %\n"
     ]
    }
   ],
   "source": [
    "HW02_2(num_of_cards = 52, num_of_step_for_face_cards = 5)"
   ]
  },
  {
   "cell_type": "code",
   "execution_count": 8,
   "metadata": {},
   "outputs": [
    {
     "name": "stdout",
     "output_type": "stream",
     "text": [
      "(Cards = 52, Step = 1) Probability that all the first 10 cards reach the same end = 82.19999999999999 %\n",
      "(Cards = 52, Step = 3) Probability that all the first 10 cards reach the same end = 70.69 %\n",
      "(Cards = 52, Step = 5) Probability that all the first 10 cards reach the same end = 57.8 %\n",
      "(Cards = 52, Step = 7) Probability that all the first 10 cards reach the same end = 46.86 %\n",
      "(Cards = 52, Step = 9) Probability that all the first 10 cards reach the same end = 34.37 %\n"
     ]
    }
   ],
   "source": [
    "HW02_2(num_of_cards = 52, num_of_step_for_face_cards = 1)\n",
    "HW02_2(num_of_cards = 52, num_of_step_for_face_cards = 3)\n",
    "HW02_2(num_of_cards = 52, num_of_step_for_face_cards = 5)\n",
    "HW02_2(num_of_cards = 52, num_of_step_for_face_cards = 7)\n",
    "HW02_2(num_of_cards = 52, num_of_step_for_face_cards = 9)"
   ]
  },
  {
   "cell_type": "code",
   "execution_count": 9,
   "metadata": {},
   "outputs": [
    {
     "name": "stdout",
     "output_type": "stream",
     "text": [
      "(Cards = 104, Step = 1) Probability that all the first 10 cards reach the same end = 99.13 %\n",
      "(Cards = 104, Step = 3) Probability that all the first 10 cards reach the same end = 97.17 %\n",
      "(Cards = 104, Step = 5) Probability that all the first 10 cards reach the same end = 93.96 %\n",
      "(Cards = 104, Step = 7) Probability that all the first 10 cards reach the same end = 88.75 %\n",
      "(Cards = 104, Step = 9) Probability that all the first 10 cards reach the same end = 82.45 %\n"
     ]
    }
   ],
   "source": [
    "HW02_2(num_of_cards = 104, num_of_step_for_face_cards = 1)\n",
    "HW02_2(num_of_cards = 104, num_of_step_for_face_cards = 3)\n",
    "HW02_2(num_of_cards = 104, num_of_step_for_face_cards = 5)\n",
    "HW02_2(num_of_cards = 104, num_of_step_for_face_cards = 7)\n",
    "HW02_2(num_of_cards = 104, num_of_step_for_face_cards = 9)"
   ]
  }
 ],
 "metadata": {
  "kernelspec": {
   "display_name": "Python 3",
   "language": "python",
   "name": "python3"
  },
  "language_info": {
   "codemirror_mode": {
    "name": "ipython",
    "version": 3
   },
   "file_extension": ".py",
   "mimetype": "text/x-python",
   "name": "python",
   "nbconvert_exporter": "python",
   "pygments_lexer": "ipython3",
   "version": "3.6.10"
  }
 },
 "nbformat": 4,
 "nbformat_minor": 2
}
